{
 "metadata": {
  "name": ""
 },
 "nbformat": 3,
 "nbformat_minor": 0,
 "worksheets": [
  {
   "cells": [
    {
     "cell_type": "markdown",
     "metadata": {},
     "source": [
      "%% Reacciones te\u00f3ricas"
     ]
    },
    {
     "cell_type": "code",
     "collapsed": false,
     "input": [
      "%pylab inline"
     ],
     "language": "python",
     "metadata": {},
     "outputs": [
      {
       "output_type": "stream",
       "stream": "stdout",
       "text": [
        "Populating the interactive namespace from numpy and matplotlib\n"
       ]
      }
     ],
     "prompt_number": 2
    },
    {
     "cell_type": "code",
     "collapsed": false,
     "input": [
      "# Definamos las constantes\n",
      "\n",
      "I=70\n",
      "mg=30*9.8\n"
     ],
     "language": "python",
     "metadata": {},
     "outputs": [],
     "prompt_number": 3
    },
    {
     "cell_type": "code",
     "collapsed": false,
     "input": [
      "# Definamos un paso apropiado\n",
      "\n",
      "h=0.05\n",
      "n_points = int((6.0+h)/h)\n",
      "x = zeros(n_points)\n",
      "y_1 = zeros(n_points)\n",
      "y_2 = zeros(n_points)\n",
      "rx = zeros(n_points)\n",
      "ry = zeros(n_points)\n",
      "\n"
     ],
     "language": "python",
     "metadata": {},
     "outputs": [],
     "prompt_number": 4
    },
    {
     "cell_type": "code",
     "collapsed": false,
     "input": [
      "x[0]=0\n",
      "y_1[0]=0\n",
      "y_2[0]=0\n",
      "\n",
      "rx[0]=0\n",
      "ry[0]=mg\n",
      "\n",
      "def func_prime_1(x, y_1, y_2):\n",
      "    return y_2\n",
      "\n",
      "def func_prime_2(x, y_1, y_2):\n",
      "    return (mg*cos (y_1))/I\n",
      "\n",
      "for i in range(1,n_points):\n",
      "    #get the first derivatives\n",
      "    y_prime_1 = func_prime_1(x[i-1],y_1[i-1], y_2[i-1])\n",
      "    y_prime_2 = func_prime_2(x[i-1],y_1[i-1], y_2[i-1])\n",
      "    \n",
      "    #from this estimation move to the middle point\n",
      "    x_middle = x[i-1] + (h/2.0)\n",
      "    y_1_middle = y_1[i-1] + (h/2.0) * y_prime_1\n",
      "    y_2_middle = y_2[i-1] + (h/2.0) * y_prime_2 \n",
      "    \n",
      "    #compute the derivatives at the middle point\n",
      "    y_middle_prime_1 = func_prime_1(x_middle, y_1_middle, y_2_middle)\n",
      "    y_middle_prime_2 = func_prime_2(x_middle, y_1_middle, y_2_middle)\n",
      "    \n",
      "    x[i] = x[i-1] + h\n",
      "    y_1[i] = y_1[i-1] + h * y_middle_prime_1 \n",
      "    y_2[i] = y_2[i-1] + h * y_middle_prime_2\n",
      "    \n",
      "    rx[i]=30*((y_2[i]*y_2[i])*cos(y_1[i]) + ((mg*cos(y_1[i]))/I)*sin(y_1[i]))\n",
      "    ry[i]=30*((y_2[i]*y_2[i])*sin(y_1[i]) - ((mg*cos(y_1[i]))/I)*cos(y_1[i]))+mg"
     ],
     "language": "python",
     "metadata": {},
     "outputs": [],
     "prompt_number": 9
    },
    {
     "cell_type": "code",
     "collapsed": false,
     "input": [
      "plot (y_1,ry)\n",
      "plot (y_1,rx)\n",
      "xlim([0,2])\n",
      "xlabel('posicion(rad)')\n",
      "ylabel('Reaccion(N)')\n",
      "print ry\n",
      "print rx"
     ],
     "language": "python",
     "metadata": {},
     "outputs": [
      {
       "output_type": "stream",
       "stream": "stdout",
       "text": [
        "[ 294.          168.01041856  168.16667477  168.84324038  170.6601715\n",
        "  174.4690146   181.3174747   192.37882082  208.83172199  231.68086759\n",
        "  261.52068913  298.26491469  340.89140853  387.27731796  434.21096051\n",
        "  477.64929187  513.23486675  537.00204756  546.11760628  539.45646096\n",
        "  517.8401144   483.86268315  441.35928537  394.67770749  347.95377366\n",
        "  304.55649852  266.78803062  235.83649432  211.91895024  194.52831581\n",
        "  182.70587331  175.28540118  171.08225265  169.02243641  168.22005328\n",
        "  168.01710394  168.00000266  168.0044262   168.11605739  168.67025738\n",
        "  170.24908398  173.66950119  179.95235168  190.25839608  205.77687114\n",
        "  227.55572439  256.27335772  291.97082592  333.78952549  379.78594437\n",
        "  426.90976592  471.21950353  508.36080436  534.25155156  545.83062467\n",
        "  541.67366213  522.29369882  490.03243249  448.57638213  402.24584965\n",
        "  355.25628037  311.12787195  272.34285603  240.2612218   215.23923533\n",
        "  196.86581134  184.23553104  176.19992     171.56618462  169.23556092\n",
        "  168.28809262  168.02739578  167.99996735  168.00123558  168.07661607\n",
        "  168.52134789  169.8782709   172.92811511  178.66251665  188.22646417\n",
        "  202.8155012   223.51580251  251.08463855  285.68648704  326.62531849\n",
        "  372.14077764  419.35368657  464.43950762  503.0655287   531.0504505\n",
        "  545.11616022  543.53957216  526.51448574  496.11070618  455.84323811\n",
        "  409.98440643  362.81558301  318.0029708   278.21135755  244.98022851\n",
        "  218.81492521  199.41003799  185.92141618  177.22398551  172.12020545\n",
        "  169.48811899  168.37402553  168.04271461  167.9999597   168.00001369\n",
        "  168.04707751  168.395272    169.54703584  172.24526899  177.4501167\n",
        "  186.2875657   199.95516349  219.57209863  245.96901734  279.42927456]\n",
        "[  0.00000000e+00   1.98446961e+00   7.93575455e+00   1.78337578e+01\n",
        "   3.15992740e+01   4.90265184e+01   6.96928628e+01   9.28542859e+01\n",
        "   1.17342910e+02   1.41493031e+02   1.63131724e+02   1.79674578e+02\n",
        "   1.88359635e+02   1.86627157e+02   1.72608133e+02   1.45629436e+02\n",
        "   1.06599030e+02   5.81275851e+01   4.29249745e+00  -4.99484417e+01\n",
        "  -9.95688015e+01  -1.40303480e+02  -1.69282750e+02  -1.85328201e+02\n",
        "  -1.88884031e+02  -1.81664377e+02  -1.66156625e+02  -1.45121991e+02\n",
        "  -1.21194160e+02  -9.66216159e+01  -7.31518998e+01  -5.20273040e+01\n",
        "  -3.40515230e+01  -1.96898898e+01  -9.17509740e+00  -2.60055278e+00\n",
        "   8.18239359e-03  -1.35202448e+00  -6.67997998e+00  -1.59607242e+01\n",
        "  -2.91286549e+01  -4.60040383e+01  -6.62058887e+01  -8.90487366e+01\n",
        "  -1.13438223e+02  -1.37790276e+02  -1.60008625e+02  -1.77561164e+02\n",
        "  -1.87690549e+02  -1.87772106e+02  -1.75790140e+02  -1.50849233e+02\n",
        "  -1.13589067e+02  -6.63565580e+01  -1.30293191e+01   4.15208031e+01\n",
        "   9.22168179e+01   1.34619613e+02   1.65605928e+02   1.83723287e+02\n",
        "   1.89176148e+02   1.83509480e+02   1.69124455e+02   1.48770906e+02\n",
        "   1.25125574e+02   1.00510519e+02   7.67563247e+01   5.51827802e+01\n",
        "   3.66570423e+01   2.16908028e+01   1.05466894e+01   3.33449537e+00\n",
        "   8.65585412e-02   8.07510982e-01   5.49681135e+00   1.41437408e+01\n",
        "   2.66949185e+01   4.29949664e+01   6.27028055e+01   8.51901689e+01\n",
        "   1.09435864e+02   1.33938850e+02   1.56683439e+02   1.75196756e+02\n",
        "   1.86735789e+02   1.88622129e+02   1.78703546e+02   1.55868020e+02\n",
        "   1.20484934e+02   7.46261103e+01   2.19498937e+01  -3.27812721e+01\n",
        "  -8.44612745e+01  -1.28490789e+02  -1.61496036e+02  -1.81743023e+02\n",
        "  -1.89181799e+02  -1.85170881e+02  -1.72009527e+02  -1.52424760e+02\n",
        "  -1.29130113e+02  -1.04519580e+02  -8.05084770e+01  -5.84976497e+01\n",
        "  -3.94219168e+01  -2.38433088e+01  -1.20576639e+01  -4.19353090e+00\n",
        "  -2.91463898e-01  -3.58171488e-01  -4.39357654e+00  -1.23903540e+01\n",
        "  -2.43059561e+01  -4.00075956e+01  -5.91922200e+01  -8.12871828e+01\n",
        "  -1.05343783e+02  -1.29945033e+02  -1.53159363e+02  -1.72579795e+02]\n"
       ]
      },
      {
       "metadata": {},
       "output_type": "display_data",
       "png": "[encoded data removed]",
       "text": [
        "<matplotlib.figure.Figure at 0x5ed5690>"
       ]
      }
     ],
     "prompt_number": 16
    },
    {
     "cell_type": "code",
     "collapsed": false,
     "input": [],
     "language": "python",
     "metadata": {},
     "outputs": []
    }
   ],
   "metadata": {}
  }
 ]
}